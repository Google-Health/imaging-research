{
  "cells": [
    {
      "cell_type": "markdown",
      "metadata": {
        "id": "nCy7vXMN73tI"
      },
      "source": [
        "# Path Foundation Linear Probe Demo\n",
        "The ipynb is a demonstration of using the Path Foundation API (this API computes embeddings for histopathology images).\n",
        "The contents include how to:\n",
        "Train a linear model using the embeddings\n",
        "Note: This notebook is for API demonstration purposes only.\n",
        "As with machine-learning use-cases it is critical to consider evaluation datasets that reflect the expected distribution of the intended use case.\n",
        "\n",
        "#Prerequisites\n",
        "You must have access to the Pathology Foundation Tool. See the project's [README](https://github.com/Google-Health/imaging-research/blob/master/path-foundation/README.md) for details.\n",
        "\n"
      ]
    },
    {
      "cell_type": "markdown",
      "metadata": {
        "id": "Lv80cFw676RO"
      },
      "source": [
        "\n",
        "# Train a Linear Classifier from Pregenerated Embeddings"
      ]
    },
    {
      "cell_type": "code",
      "execution_count": null,
      "metadata": {
        "id": "0XPfdfgS8T3Q"
      },
      "outputs": [],
      "source": [
        "# Constants\n",
        "\n",
        "\n",
        "PROJECT_ID = (  # Project that contains the stored embeddings\n",
        "    'hai-cd3-foundations'\n",
        ")\n",
        "BUCKET_NAME = (  # Bucket that contains the embeddings\n",
        "    'hai-cd3-foundations-pathology-vault-entry'\n",
        ")\n",
        "DATASET_PROJECT_ID = 'hai-cd3-foundations'  # @param {type: 'string'}\n",
        "DATASET_LOCATION = 'us-west1'  # @param {type: 'string'}\n",
        "DATASET_ID = 'pathology' # @param {type: 'string'}\n",
        "STORE_ID = 'camelyon'  # @param {type: 'string'}\n",
        "EMBEDDING_MASK_DIR_NAME = 'embeddings/'  # @param {type: 'string'}\n",
        "EVAL_CANCER_FILE = 'eval_cancer_embeddings.json'  # @param {type: 'string'}\n",
        "EVAL_NON_CANCER_FILE = 'eval_non_cancer_embeddings.json'  # @param {type: 'string'}\n",
        "TRAINING_CANCER_FILE = 'training_cancer_embeddings.json'  # @param {type: 'string'}\n",
        "TRAINING_NON_CANCER_FILE = 'training_non_cancer_embeddings.json'  # @param {type: 'string'}\n",
        "TRAINING_SET_PATCH_COUNT = 250  # @param {type: 'integer'}\n",
        "EVAL_SET_PATCH_COUNT = 50  # @param {type: 'integer'}"
      ]
    },
    {
      "cell_type": "code",
      "execution_count": null,
      "metadata": {
        "id": "4Cx6AHODBpk1"
      },
      "outputs": [],
      "source": [
        "from google.colab import auth\n",
        "# Authenticate user for access. There will be a popup asking you to sign in with your user account and approve access.\n",
        "auth.authenticate_user()"
      ]
    },
    {
      "cell_type": "code",
      "execution_count": null,
      "metadata": {
        "id": "45uHfLT5YvHu"
      },
      "outputs": [],
      "source": [
        "!pip install scikit-plot\n",
        "!pip install ez-wsi-dicomweb\n",
        "!pip install hcls-imaging-ml-toolkit-ez-wsi\n"
      ]
    },
    {
      "cell_type": "code",
      "execution_count": null,
      "metadata": {
        "id": "Jv68A3W28YUL"
      },
      "outputs": [],
      "source": [
        "### Imports\n",
        "\n",
        "from dataclasses import dataclass\n",
        "from enum import Enum\n",
        "import json\n",
        "from typing import Any\n",
        "from ez_wsi_dicomweb import dicom_slide\n",
        "from ez_wsi_dicomweb import dicom_web_interface\n",
        "import ez_wsi_dicomweb\n",
        "import ez_wsi_dicomweb.dicomweb_credential_factory as dicomweb_credential_factory\n",
        "import ez_wsi_dicomweb.pixel_spacing as pixel_spacing\n",
        "import hcls_imaging_ml_toolkit.dicom_path as dicom_path\n",
        "import hcls_imaging_ml_toolkit.tags as tags\n",
        "import google.cloud.storage\n",
        "import matplotlib.pyplot as plt\n",
        "import numpy as np\n",
        "import pandas as pd\n",
        "import scikitplot as skplt\n",
        "import sklearn.linear_model\n",
        "import sklearn.metrics\n",
        "import sklearn.model_selection\n",
        "import sklearn.pipeline\n",
        "import sklearn.preprocessing\n",
        "from google.cloud import storage"
      ]
    },
    {
      "cell_type": "code",
      "execution_count": null,
      "metadata": {
        "id": "Qt03Jft-87kq"
      },
      "outputs": [],
      "source": [
        "# Defines a helper Dataclass for converting Embeddings from JSON\n",
        "\n",
        "\n",
        "@dataclass\n",
        "class Embedding:\n",
        "  # Assumes patch size is always 224 (so width and height of a patch are 224 pixels)\n",
        "  dicom_study_uid: str\n",
        "  dicom_series_uid: str\n",
        "  x_origin: int  # Top left\n",
        "  y_origin: int  # Top left\n",
        "  instance_uids: list[str]\n",
        "  embedding: list[float]\n",
        "\n",
        "  def to_json(self) -\u003e str:\n",
        "    return json.dumps({\n",
        "        'dicom_study_uid': self.dicom_study_uid.strip(),\n",
        "        'dicom_series_uid': self.dicom_series_uid.strip(),\n",
        "        'x_origin': self.x_origin,\n",
        "        'y_origin': self.y_origin,\n",
        "        'instance_uids': self.instance_uids,\n",
        "        'embedding': json.dumps(self.embedding),\n",
        "    })\n",
        "\n",
        "\n",
        "@dataclass\n",
        "class Embeddings:\n",
        "  embeddings: list[Embedding]\n",
        "\n",
        "  def to_json(self) -\u003e str:\n",
        "    return json.dumps([em.construct_json_object() for em in self.embeddings])\n",
        "\n",
        "  def concat(self,other):\n",
        "    return Embeddings(embeddings=self.embeddings+other.embeddings)\n",
        "\n",
        "\n",
        "def embedding_from_json(json_str: str) -\u003e Embedding:\n",
        "  json_object = json.loads(json_str)\n",
        "  return Embedding(\n",
        "      dicom_study_uid=json_object['dicom_study_uid'],\n",
        "      dicom_series_uid=json_object['dicom_series_uid'],\n",
        "      x_origin=json_object['x_origin'],\n",
        "      y_origin=json_object['y_origin'],\n",
        "      instance_uids=json_object['instance_uids'],\n",
        "      embedding=json.loads(json_object['embedding']),  # Deserialize embedding\n",
        "  )\n",
        "\n",
        "\n",
        "def embeddings_from_json(json_str: str) -\u003e Embeddings:\n",
        "  json_objects = json.loads(json_str)\n",
        "  return Embeddings(\n",
        "      embeddings=[embedding_from_json(obj) for obj in json_objects]\n",
        "  )"
      ]
    },
    {
      "cell_type": "code",
      "execution_count": null,
      "metadata": {
        "id": "GHJ5DvKj8ZiT"
      },
      "outputs": [],
      "source": [
        "# Downloads the pre-generated Embeddings for the Training and Eval sets\n",
        "client = storage.Client(project=PROJECT_ID)\n",
        "bucket = client.bucket(BUCKET_NAME)\n",
        "\n",
        "\n",
        "def download_and_convert_embeddings(blob_path: str):\n",
        "  \"\"\"Downloads a blob and converts JSON to dataclass\"\"\"\n",
        "  json_data = (\n",
        "      client.bucket(BUCKET_NAME).get_blob(blob_path).download_as_string()\n",
        "  )\n",
        "  return embeddings_from_json(json_data)\n",
        "\n",
        "\n",
        "# Downloads embeddings\n",
        "eval_cancer_embeddings = download_and_convert_embeddings(\n",
        "    EMBEDDING_MASK_DIR_NAME + EVAL_CANCER_FILE\n",
        ")\n",
        "eval_non_cancer_embeddings = download_and_convert_embeddings(\n",
        "    EMBEDDING_MASK_DIR_NAME + EVAL_NON_CANCER_FILE\n",
        ")\n",
        "training_cancer_embeddings = download_and_convert_embeddings(\n",
        "    EMBEDDING_MASK_DIR_NAME + TRAINING_CANCER_FILE\n",
        ")\n",
        "training_non_cancer_embeddings = download_and_convert_embeddings(\n",
        "    EMBEDDING_MASK_DIR_NAME + TRAINING_NON_CANCER_FILE\n",
        ")\n",
        "eval_embeddings_obj = eval_cancer_embeddings.concat(eval_non_cancer_embeddings)"
      ]
    },
    {
      "cell_type": "code",
      "execution_count": null,
      "metadata": {
        "id": "luYgDjz-9ZHy"
      },
      "outputs": [],
      "source": [
        "PATCH_SIZE = 224\n",
        "TARGET_PIXEL_SPACING = pixel_spacing.PixelSpacing.FromMagnificationString('40X')\n",
        "dcf = dicomweb_credential_factory.CredentialFactory()\n",
        "dwi = dicom_web_interface.DicomWebInterface(dcf)\n",
        "\n",
        "\n",
        "def render_patch_from_embedding(\n",
        "    embedding: Embedding, plot_name: str = ''\n",
        "):\n",
        "\n",
        "  series_path = dicom_path.Path(\n",
        "      project_id=DATASET_PROJECT_ID,\n",
        "      location=DATASET_LOCATION,\n",
        "      dataset_id=DATASET_ID,\n",
        "      store_id=STORE_ID,\n",
        "      study_uid=embedding.dicom_study_uid,\n",
        "      series_uid=embedding.dicom_series_uid,\n",
        "  )\n",
        "  ds = dicom_slide.DicomSlide(\n",
        "      dwi=dwi, path=series_path, enable_client_slide_frame_decompression=True\n",
        "  )\n",
        "  patch_bytes = ds.get_patch(\n",
        "      pixel_spacing=TARGET_PIXEL_SPACING,\n",
        "      x=embedding.x_origin,\n",
        "      y=embedding.y_origin,\n",
        "      width=PATCH_SIZE,\n",
        "      height=PATCH_SIZE,\n",
        "  ).image_bytes()\n",
        "  plt.imshow(patch_bytes)\n",
        "  plt.title(plot_name)\n",
        "  plt.axis('off')\n",
        "  plt.show()\n",
        "\n",
        "\n",
        "render_patch_from_embedding(eval_cancer_embeddings.embeddings[0], 'Eval Cancer')"
      ]
    },
    {
      "cell_type": "code",
      "execution_count": null,
      "metadata": {
        "id": "6LuZpl-p8prK"
      },
      "outputs": [],
      "source": [
        "# Pass the Embeddings for the Training and Eval sets into scikit-learn\n",
        "\n",
        "\n",
        "def concatenate_embeddings(embeddings_obj: Embeddings) -\u003e np.array:\n",
        "  \"\"\"Concatenates embeddings into a NumPy array.\"\"\"\n",
        "  return np.array(\n",
        "      [embedding.embedding for embedding in embeddings_obj.embeddings]\n",
        "  )\n",
        "\n",
        "\n",
        "def concatenate_series_ids(embeddings_obj: Embeddings) -\u003e np.array:\n",
        "  \"\"\"Concatenates instance UIDs into a NumPy array.\"\"\"\n",
        "  # Assume there is one instance uid per series.\n",
        "  return np.array(\n",
        "      [embedding.instance_uids[0] for embedding in embeddings_obj.embeddings]\n",
        "  )\n",
        "\n",
        "\n",
        "# Create NumPy arrays directly (more efficient)\n",
        "training_embeddings = np.concatenate([\n",
        "    concatenate_embeddings(training_cancer_embeddings),\n",
        "    concatenate_embeddings(training_non_cancer_embeddings),\n",
        "])\n",
        "eval_embeddings = np.concatenate([\n",
        "    concatenate_embeddings(eval_cancer_embeddings),\n",
        "    concatenate_embeddings(eval_non_cancer_embeddings),\n",
        "])\n",
        "\n",
        "training_ids = np.concatenate([\n",
        "    concatenate_series_ids(training_cancer_embeddings),\n",
        "    concatenate_series_ids(training_non_cancer_embeddings),\n",
        "])\n",
        "eval_ids = np.concatenate([\n",
        "    concatenate_series_ids(eval_cancer_embeddings),\n",
        "    concatenate_series_ids(eval_non_cancer_embeddings),\n",
        "])\n",
        "\n",
        "# Create labels (already done in the previous question)\n",
        "training_labels = np.concatenate(\n",
        "    (np.ones(TRAINING_SET_PATCH_COUNT), np.zeros(TRAINING_SET_PATCH_COUNT))\n",
        ")\n",
        "eval_labels = np.concatenate(\n",
        "    (np.ones(EVAL_SET_PATCH_COUNT), np.zeros(EVAL_SET_PATCH_COUNT))\n",
        ")"
      ]
    },
    {
      "cell_type": "code",
      "execution_count": null,
      "metadata": {
        "id": "aYWil5ur8ruZ"
      },
      "outputs": [],
      "source": [
        "# Train a linear classifier\n",
        "clf_pipeline = sklearn.pipeline.Pipeline([\n",
        "    ('scaler', sklearn.preprocessing.StandardScaler()),\n",
        "    (\n",
        "        'logreg',\n",
        "        sklearn.model_selection.GridSearchCV(\n",
        "            sklearn.linear_model.LogisticRegression(\n",
        "                random_state=0,\n",
        "                multi_class='ovr',\n",
        "                verbose=False,\n",
        "            ),\n",
        "            cv=sklearn.model_selection.StratifiedGroupKFold(n_splits=5).split(\n",
        "                training_embeddings, y=training_labels, groups=training_ids\n",
        "            ),\n",
        "            param_grid={'C': np.logspace(start=-4, stop=4, num=10, base=10)},\n",
        "            scoring='roc_auc_ovr',\n",
        "            refit=True,\n",
        "        ),\n",
        "    ),\n",
        "]).fit(training_embeddings, training_labels)\n",
        "\n",
        "\n",
        "test_predictions = clf_pipeline.predict_proba(eval_embeddings)"
      ]
    },
    {
      "cell_type": "code",
      "execution_count": null,
      "metadata": {
        "id": "JykI-foV8vuL"
      },
      "outputs": [],
      "source": [
        "# Evaluate the linear classifiers performance using the eval set\n",
        "\n",
        "sklearn.metrics.roc_auc_score(eval_labels, test_predictions[:, 1])"
      ]
    },
    {
      "cell_type": "code",
      "execution_count": null,
      "metadata": {
        "id": "iS-6ahz3i2Hn"
      },
      "outputs": [],
      "source": [
        "# @title Plot the ROC Curve\n",
        "\n",
        "display = sklearn.metrics.RocCurveDisplay.from_predictions(eval_labels, test_predictions[:,1],name=\"Tumor Classifier\")\n",
        "display.ax_.set_title(\"ROC of Tumor Classifier\")"
      ]
    },
    {
      "cell_type": "code",
      "execution_count": null,
      "metadata": {
        "id": "ORAsWcLVcERu"
      },
      "outputs": [],
      "source": [
        "# @title Find a threshold that optimises for the sum of sens and spec\n",
        "\n",
        "thresholds = np.linspace(0, 1, 100)\n",
        "sensitivities = []\n",
        "specificities = []\n",
        "for threshold in thresholds:\n",
        "    predictions = (test_predictions[:, 1] \u003e threshold)\n",
        "    sensitivities.append(sklearn.metrics.recall_score(eval_labels, predictions))\n",
        "    specificities.append(sklearn.metrics.recall_score(eval_labels == 0, predictions == 0))\n",
        "index = np.argmax(np.array(sensitivities) + np.array(specificities))\n",
        "best_threshold = thresholds[index]\n",
        "sens = sensitivities[index]\n",
        "spec = specificities[index]\n",
        "print(f\"Best threshold: {round(best_threshold,2)}. Sensitivity is {round(sens*100,2)}% and Specificity is {round(spec*100,2)}% \")"
      ]
    },
    {
      "cell_type": "code",
      "execution_count": null,
      "metadata": {
        "id": "sIlXrLMQjeeb"
      },
      "outputs": [],
      "source": [
        "# @title Show the results in a table\n",
        "\n",
        "df = pd.DataFrame({'ground_truth':eval_labels,'model_score':test_predictions[:,1]})\n",
        "df['tumor_prediction'] = df['model_score'] \u003e best_threshold\n",
        "df['embeddings'] = [embedding for embedding in eval_embeddings_obj.embeddings]\n",
        "\n",
        "df"
      ]
    },
    {
      "cell_type": "code",
      "execution_count": null,
      "metadata": {
        "id": "kxfGFAyJVf5S"
      },
      "outputs": [],
      "source": [
        "# @title Visualize True Positives\n",
        "\n",
        "df_tp = df[(df['tumor_prediction'] == True) \u0026 (df['ground_truth'] == 1)].sort_values('model_score',ascending=False).head(5)\n",
        "for _, row in df_tp.iterrows():\n",
        "  print(f'model score is {row.model_score}')\n",
        "  render_patch_from_embedding(row.embeddings, f'True Positive')"
      ]
    },
    {
      "cell_type": "code",
      "execution_count": null,
      "metadata": {
        "id": "Jvb8-wbZVtkS"
      },
      "outputs": [],
      "source": [
        "# @title Visualize True Negatives\n",
        "\n",
        "df_tn = df[(df['tumor_prediction'] == False) \u0026 (df['ground_truth'] == 0)].sort_values('model_score',ascending=False).head(5)\n",
        "for _, row in df_tn.iterrows():\n",
        "  print(f'model score is {row.model_score}')\n",
        "  render_patch_from_embedding(row.embeddings, f'True Negative')"
      ]
    },
    {
      "cell_type": "code",
      "execution_count": null,
      "metadata": {
        "id": "mCB6sfxvjnru"
      },
      "outputs": [],
      "source": [
        "# @title Visualize False Positives\n",
        "\n",
        "df_fp = df[(df['tumor_prediction'] == True) \u0026 (df['ground_truth'] == 0)].sort_values('model_score',ascending=False)\n",
        "for _, row in df_fp.iterrows():\n",
        "  print(f'model score is {row.model_score}')\n",
        "  render_patch_from_embedding(row.embeddings, f'False Positive')"
      ]
    },
    {
      "cell_type": "code",
      "execution_count": null,
      "metadata": {
        "id": "laWdwj_7jp2K"
      },
      "outputs": [],
      "source": [
        "# @title Visualize False Negatives\n",
        "\n",
        "df_fn = df[(df['tumor_prediction'] == False) \u0026 (df['ground_truth'] == 1)].sort_values('model_score',ascending=True)\n",
        "for _, row in df_fn.iterrows():\n",
        "  print(f'model score is {row.model_score}')\n",
        "  render_patch_from_embedding(row.embeddings, f'False Negative')"
      ]
    }
  ],
  "metadata": {
    "colab": {
      "last_runtime": {
        "build_target": "//research/colab/sidecar/colab:team_sidecar",
        "kind": "shared"
      },
      "private_outputs": true,
      "provenance": [],
      "toc_visible": true
    },
    "kernelspec": {
      "display_name": "Python 3",
      "name": "python3"
    },
    "language_info": {
      "name": "python"
    }
  },
  "nbformat": 4,
  "nbformat_minor": 0
}
