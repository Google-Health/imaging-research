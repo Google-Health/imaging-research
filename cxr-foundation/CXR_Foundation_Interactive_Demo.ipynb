{
  "nbformat": 4,
  "nbformat_minor": 0,
  "metadata": {
    "colab": {
      "provenance": [],
      "private_outputs": true,
      "cell_execution_strategy": "setup"
    },
    "kernelspec": {
      "name": "python3",
      "display_name": "Python 3"
    },
    "language_info": {
      "name": "python"
    }
  },
  "cells": [
    {
      "cell_type": "markdown",
      "source": [
        "<table class=\"tfo-notebook-buttons\" align=\"left\">\n",
        "  <td>\n",
        "    <a target=\"_blank\" href=\"https://colab.research.google.com/github/Google-Health/imaging-research/blob/master/cxr-foundation/CXR_Foundation_Interactive_Demo.ipynb\"><img src=\"https://www.tensorflow.org/images/colab_logo_32px.png\" />Run in Google Colab</a>\n",
        "  </td>\n",
        "  <td>\n",
        "    <a target=\"_blank\" href=\"https://github.com/Google-Health/imaging-research/blob/master/cxr-foundation/CXR_Foundation_Interactive_Demo.ipynb\"><img src=\"https://www.tensorflow.org/images/GitHub-Mark-32px.png\" />View source on GitHub</a>\n",
        "  </td>\n",
        "</table>"
      ],
      "metadata": {
        "id": "SmaSUdnET28O"
      }
    },
    {
      "cell_type": "markdown",
      "source": [
        "# CXR Foundations Demo App\n",
        "\n",
        "Run the below code cell to test out CXR Foundations with a GUI. This allows you to retrieve embeddings for x-rays, label the x-rays for some binary classification task, split the data into train and test and then finally train a linear classifier for the model. The demo can load in [NIH Chest X-ray demo x-rays](https://nihcc.app.box.com/v/ChestXray-NIHCC) but you can also bring your own DICOMs."
      ],
      "metadata": {
        "id": "iBVn2ob9lr6e"
      }
    },
    {
      "cell_type": "code",
      "execution_count": null,
      "metadata": {
        "id": "yoAb5R0fgH84",
        "cellView": "form"
      },
      "outputs": [],
      "source": [
        "#@title Authenticate and Render Demo App\n",
        "\n",
        "from google.colab import auth\n",
        "from google.auth import default\n",
        "from google.auth.transport.requests import Request\n",
        "\n",
        "auth.authenticate_user()\n",
        "credentials, _ = default()\n",
        "credentials.refresh(Request())\n",
        "bearer_token = credentials.token\n",
        "\n",
        "import requests\n",
        "response = requests.get('https://cdn.jsdelivr.net/gh/Google-Health/imaging-research@latest/cxr-foundation/cxr_foundation_interactive_demo_deps/index.html')\n",
        "html_content = response.text\n",
        "html_content = html_content.replace('ACCESS_TOKEN', bearer_token)\n",
        "\n",
        "from IPython.core.display import display, HTML\n",
        "display(HTML(html_content))\n",
        "\n"
      ]
    }
  ]
}
