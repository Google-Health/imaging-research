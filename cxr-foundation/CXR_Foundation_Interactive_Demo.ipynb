{
  "nbformat": 4,
  "nbformat_minor": 0,
  "metadata": {
    "colab": {
      "provenance": [],
      "private_outputs": true,
      "cell_execution_strategy": "setup"
    },
    "kernelspec": {
      "name": "python3",
      "display_name": "Python 3"
    },
    "language_info": {
      "name": "python"
    }
  },
  "cells": [
    {
      "cell_type": "markdown",
      "source": [
        "<table class=\"tfo-notebook-buttons\" align=\"left\">\n",
        "  <td>\n",
        "    <a target=\"_blank\" href=\"https://colab.research.google.com/github/Google-Health/imaging-research/blob/master/cxr-foundation/CXR_Foundation_Interactive_Demo.ipynb\"><img src=\"data:image/svg+xml;base64,PHN2ZyB4bWxucz0iaHR0cDovL3d3dy53My5vcmcvMjAwMC9zdmciIHZpZXdCb3g9IjAgMCAyNCAyNCIgcHJlc2VydmVBc3BlY3RSYXRpbz0ieE1pZFlNaWQgbWVldCIgd2lkdGg9IjMycHgiIGhlaWdodD0iMzJweCIgcG9pbnRlci1ldmVudHM9Im5vbmUiIHhtbG5zOnY9Imh0dHBzOi8vdmVjdGEuaW8vbmFubyI+PHBhdGggZD0iTTQuNTQgOS40NkwyLjE5IDcuMWE2LjkzIDYuOTMgMCAwIDAgMCA5Ljc5bDIuMzYtMi4zNmEzLjU5IDMuNTkgMCAwIDEtLjAxLTUuMDd6IiBmaWxsPSIjZTg3MTBhIi8+PHBhdGggZD0iTTIuMTkgNy4xbDIuMzUgMi4zNmEzLjU5IDMuNTkgMCAwIDEgNS4wOCAwbDEuNzEtMi45M2gwbC0uMS0uMDhoMGE2LjkzIDYuOTMgMCAwIDAtOS4wNC42NXptOS4xNSAxMC4zNmgwbC0xLjcyLTIuOTJhMy41OSAzLjU5IDAgMCAxLTUuMDggMEwyLjE5IDE2LjlhNi45MyA2LjkzIDAgMCAwIDkgLjY1bC4xMS0uMDlNMTIgNy4xYTYuOTMgNi45MyAwIDAgMCAwIDkuNzlsMi4zNi0yLjM2YTMuNTkyIDMuNTkyIDAgMSAxIDUuMDgtNS4wOGwyLjM3LTIuMzVhNi45MyA2LjkzIDAgMCAwLTkuODEgMHoiIGZpbGw9IiNmOWFiMDAiLz48cGF0aCBkPSJNMjEuODEgNy4xbC0yLjM1IDIuMzZhMy41OSAzLjU5IDAgMCAxLTUuMDggNS4wOEwxMiAxNi45YTYuOTMgNi45MyAwIDAgMCA5LjgxLTkuOHoiIGZpbGw9IiNlODcxMGEiLz48L3N2Zz4=\">Run in Google Colab</a>\n",
        "  </td>\n",
        "  <td>\n",
        "    <a target=\"_blank\" href=\"https://github.com/Google-Health/imaging-research/blob/master/cxr-foundation/CXR_Foundation_Interactive_Demo.ipynb\"><img src=\"data:image/svg+xml;base64,PHN2ZyB4bWxucz0iaHR0cDovL3d3dy53My5vcmcvMjAwMC9zdmciIHdpZHRoPSIzMiIgaGVpZ2h0PSIzMiIgdmlld0JveD0iMCAwIDEwMjQgMTAyNCIgZmlsbD0ibm9uZSI+PHBhdGggZmlsbC1ydWxlPSJldmVub2RkIiBkPSJNNTEyIDBDMjI5LjEyIDAgMCAyMjkuMTIgMCA1MTJjMCAyMjYuNTYgMTQ2LjU2IDQxNy45MiAzNTAuMDggNDg1Ljc2IDI1LjYgNC40OCAzNS4yLTEwLjg4IDM1LjItMjQuMzJsLS42NC05NS4zNkMyNTYgOTAxLjc2IDIyMi43MiA4NDYuNzIgMjEyLjQ4IDgxNy45MmMtNS43Ni0xNC43Mi0zMC43Mi02MC4xNi01Mi40OC03Mi4zMi0xNy45Mi05LjYtNDMuNTItMzMuMjgtLjY0LTMzLjkyIDQwLjMyLS42NCA2OS4xMiAzNy4xMiA3OC43MiA1Mi40OCA0Ni4wOCA3Ny40NCAxMTkuNjggNTUuNjggMTQ5LjEyIDQyLjI0IDQuNDgtMzMuMjggMTcuOTItNTUuNjggMzIuNjQtNjguNDgtMTEzLjkyLTEyLjgtMjMyLjk2LTU2Ljk2LTIzMi45Ni0yNTIuOCAwLTU1LjY4IDE5Ljg0LTEwMS43NiA1Mi40OC0xMzcuNi01LjEyLTEyLjgtMjMuMDQtNjUuMjggNS4xMi0xMzUuNjggMCAwIDQyLjg4LTEzLjQ0IDE0MC44IDUyLjQ4IDQwLjk2LTExLjUyIDg0LjQ4LTE3LjI4IDEyOC0xNy4yOHM4Ny4wNCA1Ljc2IDEyOCAxNy4yOGM5Ny45Mi02Ni41NiAxNDAuOC01Mi40OCAxNDAuOC01Mi40OCAyOC4xNiA3MC40IDEwLjI0IDEyMi44OCA1LjEyIDEzNS42OCAzMi42NCAzNS44NCA1Mi40OCA4MS4yOCA1Mi40OCAxMzcuNiAwIDE5Ni40OC0xMTkuNjggMjQwLTIzMy42IDI1Mi44IDE4LjU2IDE2IDM0LjU2IDQ2LjcyIDM0LjU2IDk0LjcybC0uNjQgMTQwLjhjMCAxMy40NCA5LjYgMjkuNDQgMzUuMiAyNC4zMkM4NzcuNDQgOTI5LjkyIDEwMjQgNzM3LjkyIDEwMjQgNTEyIDEwMjQgMjI5LjEyIDc5NC44OCAwIDUxMiAweiIgZmlsbD0iIzFiMWYyMyIvPjwvc3ZnPg==\">View source on GitHub</a>\n",
        "  </td>\n",
        "</table>\n",
        "\n"
      ],
      "metadata": {
        "id": "SmaSUdnET28O"
      }
    },
    {
      "cell_type": "markdown",
      "source": [
        "# CXR Foundations Demo App\n",
        "\n",
        "Run the below code cell to test out CXR Foundations with a GUI. This allows you to retrieve embeddings for x-rays, label the x-rays for some binary classification task, split the data into train and test and then finally train a linear classifier for the model. The demo can load in NIH-14 demo x-rays but you can also bring your own DICOMs."
      ],
      "metadata": {
        "id": "iBVn2ob9lr6e"
      }
    },
    {
      "cell_type": "code",
      "execution_count": null,
      "metadata": {
        "id": "yoAb5R0fgH84",
        "cellView": "form"
      },
      "outputs": [],
      "source": [
        "#@title Authenticate and Render Demo App\n",
        "\n",
        "from google.colab import auth\n",
        "from google.auth import default\n",
        "from google.auth.transport.requests import Request\n",
        "\n",
        "auth.authenticate_user()\n",
        "credentials, _ = default()\n",
        "credentials.refresh(Request())\n",
        "bearer_token = credentials.token\n",
        "\n",
        "import requests\n",
        "response = requests.get('https://cdn.jsdelivr.net/gh/Google-Health/imaging-research@latest/cxr-foundation/cxr_foundation_interactive_demo_deps/index.html')\n",
        "html_content = response.text\n",
        "html_content = html_content.replace('ACCESS_TOKEN', bearer_token)\n",
        "\n",
        "from IPython.core.display import display, HTML\n",
        "display(HTML(html_content))\n",
        "\n"
      ]
    }
  ]
}