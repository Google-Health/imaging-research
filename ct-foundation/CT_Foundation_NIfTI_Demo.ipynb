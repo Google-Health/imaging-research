{
  "cells": [
    {
      "cell_type": "markdown",
      "metadata": {
        "id": "Fjl9khpJ8CoN"
      },
      "source": [
        "\u003ctable class=\"tfo-notebook-buttons\" align=\"left\"\u003e\n",
        "  \u003ctd\u003e\n",
        "    \u003ca target=\"_blank\" href=\"https://colab.research.google.com/github/google-health/imaging-research/blob/master/ct-foundation/CT_Foundation_NIfTI_Demo.ipynb\"\u003e\u003cimg src=\"https://www.tensorflow.org/images/colab_logo_32px.png\" /\u003eRun in Google Colab\u003c/a\u003e\n",
        "  \u003c/td\u003e\n",
        "  \u003ctd\u003e\n",
        "    \u003ca target=\"_blank\" href=\"https://github.com/google-health/imaging-research/tree/master/ct-foundation\"\u003e\u003cimg src=\"https://www.tensorflow.org/images/GitHub-Mark-32px.png\" /\u003eView source on GitHub\u003c/a\u003e\n",
        "  \u003c/td\u003e\n",
        "\u003c/table\u003e\n"
      ]
    },
    {
      "cell_type": "code",
      "execution_count": null,
      "metadata": {
        "id": "2SSjj4fqzeOe"
      },
      "outputs": [],
      "source": [
        "# Copyright 2024 Google LLC\n",
        "#\n",
        "# Licensed under the Apache License, Version 2.0 (the \"License\");\n",
        "# you may not use this file except in compliance with the License.\n",
        "# You may obtain a copy of the License at\n",
        "#\n",
        "#     https://www.apache.org/licenses/LICENSE-2.0\n",
        "#\n",
        "# Unless required by applicable law or agreed to in writing, software\n",
        "# distributed under the License is distributed on an \"AS IS\" BASIS,\n",
        "# WITHOUT WARRANTIES OR CONDITIONS OF ANY KIND, either express or implied.\n",
        "# See the License for the specific language governing permissions and\n",
        "# limitations under the License."
      ]
    },
    {
      "cell_type": "markdown",
      "metadata": {
        "id": "DnwIgD1bziUF"
      },
      "source": [
        "## CT Foundation API Demo with NIfTI images\n",
        "The ipynb is a demonstration of using the\n",
        "[CT Foundation API](https://github.com/google-health/imaging-research/tree/master/ct-foundation)\n",
        "(this API computes embeddings from CT volumes).\n",
        "\n",
        "The contents include how to:\n",
        "\n",
        "-   Check NIfTI files to ensure they are in the proper format.\n",
        "-   Call inference on CTs stored as NIfTI files in a Google cloud bucket\n",
        "\n",
        "Please see the CT_Foundation_Demo colab for running DICOMs and training downstream models.\n",
        "\n",
        "\n",
        "### This notebook is for API demonstration purposes only\n",
        "\n",
        "**Note: This notebook is for API demonstration purposes only.**\n",
        "\n",
        "It's important to use evaluation datasets\n",
        "that reflect the expected distribution of images and patients you wish to use any downstream models on.\n",
        "\n",
        "This means that the best way to determine if this API is right for you is to try it with data that would be used for the downstream task you're interested in."
      ]
    },
    {
      "cell_type": "markdown",
      "metadata": {
        "id": "awoN_r8jOj0r"
      },
      "source": [
        "# Data Attribution\n",
        "\n",
        "This notebook makes use of two public datasets provided by the Cancer Imaging Archive which is managed by the United States  National Cancer Institute\n",
        "\n",
        "\n",
        "### LIDC-IDRI Data Access CC BY 3.0\n",
        "https://www.cancerimagingarchive.net/collection/lidc-idri/\n",
        "\n",
        "#### LIDC-IDRI Data Citation\n",
        "\n",
        "Armato III, S. G., McLennan, G., Bidaut, L., McNitt-Gray, M. F., Meyer, C. R., Reeves, A. P., Zhao, B., Aberle, D. R., Henschke, C. I., Hoffman, E. A., Kazerooni, E. A., MacMahon, H., Van Beek, E. J. R., Yankelevitz, D., Biancardi, A. M., Bland, P. H., Brown, M. S., Engelmann, R. M., Laderach, G. E., Max, D., Pais, R. C. , Qing, D. P. Y. , Roberts, R. Y., Smith, A. R., Starkey, A., Batra, P., Caligiuri, P., Farooqi, A., Gladish, G. W., Jude, C. M., Munden, R. F., Petkovska, I., Quint, L. E., Schwartz, L. H., Sundaram, B., Dodd, L. E., Fenimore, C., Gur, D., Petrick, N., Freymann, J., Kirby, J., Hughes, B., Casteele, A. V., Gupte, S., Sallam, M., Heath, M. D., Kuhn, M. H., Dharaiya, E., Burns, R., Fryd, D. S., Salganicoff, M., Anand, V., Shreter, U., Vastagh, S., Croft, B. Y., Clarke, L. P. (2015). Data From LIDC-IDRI [Data set]. The Cancer Imaging Archive. https://doi.org/10.7937/K9/TCIA.2015.LO9QL9SX"
      ]
    },
    {
      "cell_type": "markdown",
      "metadata": {
        "id": "KTpU6d_WPXx8"
      },
      "source": [
        "# Installation \u0026 Setup\n",
        "\n"
      ]
    },
    {
      "cell_type": "code",
      "execution_count": null,
      "metadata": {
        "colab": {
          "base_uri": "https://localhost:8080/"
        },
        "executionInfo": {
          "elapsed": 7246,
          "status": "ok",
          "timestamp": 1735259495170,
          "user": {
            "displayName": "Atilla Kiraly",
            "userId": "05048620842291012574"
          },
          "user_tz": 480
        },
        "id": "sfnWmzMCOwzG",
        "outputId": "9aea57af-af4f-41e6-fade-50fd0d4610e5"
      },
      "outputs": [
        {
          "name": "stdout",
          "output_type": "stream",
          "text": [
            "Requirement already satisfied: google-auth in /usr/local/lib/python3.10/dist-packages (2.27.0)\n",
            "Requirement already satisfied: requests-toolbelt in /usr/local/lib/python3.10/dist-packages (1.0.0)\n",
            "Requirement already satisfied: cachetools\u003c6.0,\u003e=2.0.0 in /usr/local/lib/python3.10/dist-packages (from google-auth) (5.5.0)\n",
            "Requirement already satisfied: pyasn1-modules\u003e=0.2.1 in /usr/local/lib/python3.10/dist-packages (from google-auth) (0.4.1)\n",
            "Requirement already satisfied: rsa\u003c5,\u003e=3.1.4 in /usr/local/lib/python3.10/dist-packages (from google-auth) (4.9)\n",
            "Requirement already satisfied: requests\u003c3.0.0,\u003e=2.0.1 in /usr/local/lib/python3.10/dist-packages (from requests-toolbelt) (2.32.3)\n",
            "Requirement already satisfied: pyasn1\u003c0.7.0,\u003e=0.4.6 in /usr/local/lib/python3.10/dist-packages (from pyasn1-modules\u003e=0.2.1-\u003egoogle-auth) (0.6.1)\n",
            "Requirement already satisfied: charset-normalizer\u003c4,\u003e=2 in /usr/local/lib/python3.10/dist-packages (from requests\u003c3.0.0,\u003e=2.0.1-\u003erequests-toolbelt) (3.4.0)\n",
            "Requirement already satisfied: idna\u003c4,\u003e=2.5 in /usr/local/lib/python3.10/dist-packages (from requests\u003c3.0.0,\u003e=2.0.1-\u003erequests-toolbelt) (3.10)\n",
            "Requirement already satisfied: urllib3\u003c3,\u003e=1.21.1 in /usr/local/lib/python3.10/dist-packages (from requests\u003c3.0.0,\u003e=2.0.1-\u003erequests-toolbelt) (2.2.3)\n",
            "Requirement already satisfied: certifi\u003e=2017.4.17 in /usr/local/lib/python3.10/dist-packages (from requests\u003c3.0.0,\u003e=2.0.1-\u003erequests-toolbelt) (2024.12.14)\n",
            "Requirement already satisfied: nibabel in /usr/local/lib/python3.10/dist-packages (5.3.2)\n",
            "Requirement already satisfied: importlib-resources\u003e=5.12 in /usr/local/lib/python3.10/dist-packages (from nibabel) (6.4.5)\n",
            "Requirement already satisfied: numpy\u003e=1.22 in /usr/local/lib/python3.10/dist-packages (from nibabel) (1.26.4)\n",
            "Requirement already satisfied: packaging\u003e=20 in /usr/local/lib/python3.10/dist-packages (from nibabel) (24.2)\n",
            "Requirement already satisfied: typing-extensions\u003e=4.6 in /usr/local/lib/python3.10/dist-packages (from nibabel) (4.12.2)\n"
          ]
        }
      ],
      "source": [
        "# Notebook specific dependencies\n",
        "\n",
        "!pip install google-auth requests-toolbelt\n",
        "!pip install nibabel"
      ]
    },
    {
      "cell_type": "code",
      "execution_count": null,
      "metadata": {
        "id": "RYMxVPMPzpR7"
      },
      "outputs": [],
      "source": [
        "import gzip\n",
        "import http\n",
        "import io\n",
        "from typing import Iterable, Optional\n",
        "from google.auth import credentials as gcredentials\n",
        "from google.auth.transport import requests\n",
        "from google.cloud import storage\n",
        "from google.colab import auth\n",
        "from google.oauth2 import credentials\n",
        "import matplotlib\n",
        "import nibabel as nib\n",
        "import numpy as np\n",
        "from requests_toolbelt.multipart import decoder"
      ]
    },
    {
      "cell_type": "markdown",
      "metadata": {
        "id": "g5_an_XYPdBA"
      },
      "source": [
        "**IMPORTANT**: If you are using Colab, you must restart the runtime after installing new packages.\n",
        "\n",
        "NOTE: There will be some ERROR messages due to the protobuf library - this is normal."
      ]
    },
    {
      "cell_type": "code",
      "execution_count": null,
      "metadata": {
        "id": "eb82fhNmYF1P"
      },
      "outputs": [],
      "source": [
        "# @title Authenticate\n",
        "# Authenticate user for access. There will be a popup asking you to sign in with your user and approve access.\n",
        "auth.authenticate_user()\n",
        "TOKEN_ = !gcloud beta auth application-default print-access-token\n",
        "TOKEN = TOKEN_[0]\n",
        "\n",
        "# This is your token for accessing the API and CT Volumes.\n",
        "# It's good for 1 hour until you need a new one.\n",
        "TOKEN"
      ]
    },
    {
      "cell_type": "markdown",
      "metadata": {
        "id": "LkB5R0sx7C7Z"
      },
      "source": [
        "## Collect the stored NPZ data from the cloud bucket"
      ]
    },
    {
      "cell_type": "code",
      "execution_count": null,
      "metadata": {
        "colab": {
          "base_uri": "https://localhost:8080/"
        },
        "executionInfo": {
          "elapsed": 387,
          "status": "ok",
          "timestamp": 1735259497543,
          "user": {
            "displayName": "Atilla Kiraly",
            "userId": "05048620842291012574"
          },
          "user_tz": 480
        },
        "id": "mzI0A92hH5VZ",
        "outputId": "c6e074d2-ad7d-4b72-ef97-73d424bbb3bf"
      },
      "outputs": [
        {
          "name": "stdout",
          "output_type": "stream",
          "text": [
            "Files to process:\n",
            "['gs://hai-cd3-foundations-ct3d-vault-entry/lidc/1.3.6.1.4.1.14519.5.2.1.6279.6001.153985109349433321657655488650.nii.gz', 'gs://hai-cd3-foundations-ct3d-vault-entry/lidc/1.3.6.1.4.1.14519.5.2.1.6279.6001.187108608022306504546286626125.nii.gz', 'gs://hai-cd3-foundations-ct3d-vault-entry/lidc/1.3.6.1.4.1.14519.5.2.1.6279.6001.290410217650314119074833254861.nii.gz']\n"
          ]
        }
      ],
      "source": [
        "# Get a list of NIfTI files from the GCS bucket:\n",
        "\n",
        "project_id = 'hai-cd3-foundations'\n",
        "location = 'us-central1'\n",
        "\n",
        "gcs_storage_client = storage.Client(project_id)\n",
        "gcs_bucket_name = 'hai-cd3-foundations-ct3d-vault-entry'\n",
        "gcs_bucket = gcs_storage_client.bucket(gcs_bucket_name)\n",
        "\n",
        "nifti_urls = []\n",
        "\n",
        "for a in gcs_bucket.list_blobs(prefix='lidc/1.3.6'):\n",
        "  if a.name.endswith('.gz'):\n",
        "    nifti_urls.append('gs://hai-cd3-foundations-ct3d-vault-entry/' + a.name)\n",
        "\n",
        "print('Files to process:')\n",
        "print(nifti_urls)"
      ]
    },
    {
      "cell_type": "code",
      "execution_count": null,
      "metadata": {
        "colab": {
          "base_uri": "https://localhost:8080/"
        },
        "executionInfo": {
          "elapsed": 16801,
          "status": "ok",
          "timestamp": 1735259514362,
          "user": {
            "displayName": "Atilla Kiraly",
            "userId": "05048620842291012574"
          },
          "user_tz": 480
        },
        "id": "Jo9avSfPOYO-",
        "outputId": "cdda61ce-26e7-4f97-883f-a58b7298687c"
      },
      "outputs": [
        {
          "name": "stdout",
          "output_type": "stream",
          "text": [
            "Checking: gs://hai-cd3-foundations-ct3d-vault-entry/lidc/1.3.6.1.4.1.14519.5.2.1.6279.6001.153985109349433321657655488650.nii.gz\n",
            "Should be (512,512, x) (512, 512, 305)\n",
            "Min and Max should be in Hounsfield Units\n",
            "Min: -3024.0\n",
            "Max: 3071.0\n",
            "Checking: gs://hai-cd3-foundations-ct3d-vault-entry/lidc/1.3.6.1.4.1.14519.5.2.1.6279.6001.187108608022306504546286626125.nii.gz\n",
            "Should be (512,512, x) (512, 512, 261)\n",
            "Min and Max should be in Hounsfield Units\n",
            "Min: -3024.0\n",
            "Max: 3071.0\n",
            "Checking: gs://hai-cd3-foundations-ct3d-vault-entry/lidc/1.3.6.1.4.1.14519.5.2.1.6279.6001.290410217650314119074833254861.nii.gz\n",
            "Should be (512,512, x) (512, 512, 261)\n",
            "Min and Max should be in Hounsfield Units\n",
            "Min: -3024.0\n",
            "Max: 1750.0\n"
          ]
        }
      ],
      "source": [
        "# OPTIONAL\n",
        "# Download and check the NIfTI file to make sure it can run through CT Foundation:\n",
        "\n",
        "\n",
        "client = storage.Client(\n",
        "    project=None, credentials=credentials.Credentials(TOKEN)\n",
        ")\n",
        "\n",
        "for a_nifti in nifti_urls:\n",
        "  print(f'Checking: {a_nifti}')\n",
        "  blob = storage.Blob.from_string(a_nifti, client=client)\n",
        "  with blob.open('rb') as f:\n",
        "    the_bytes = f.read()\n",
        "\n",
        "  # Unzip the file\n",
        "  compressed_stream = io.BytesIO(the_bytes)\n",
        "  with gzip.GzipFile(fileobj=compressed_stream, mode='rb') as decompressed:\n",
        "    the_bytes = decompressed.read()\n",
        "  compressed_stream.close()\n",
        "\n",
        "  # Load and check NIfTI image\n",
        "  nifti_image = nib.Nifti1Image.from_bytes(io.BytesIO(the_bytes).read())\n",
        "  reoriented_img = nib.as_closest_canonical(nifti_image)\n",
        "  reoriented_img = reoriented_img.get_fdata()\n",
        "\n",
        "  slope, intercept = nifti_image.header.get_slope_inter()\n",
        "\n",
        "  print(f'Should be (512,512, x) {reoriented_img.shape}')\n",
        "  print('Min and Max should be in Hounsfield Units')\n",
        "  # Note: Some scanners set -3024 for outside of the imaging area\n",
        "  print(f'Min: {np.min(reoriented_img)}')\n",
        "  print(f'Max: {np.max(reoriented_img)}')"
      ]
    },
    {
      "cell_type": "markdown",
      "metadata": {
        "id": "vPOseIHV4lAF"
      },
      "source": [
        "## Call the API to compute embeddings for the selected NIfTI.\n",
        "\n",
        "**NOTE:** *The API can take up to 10 minutes to scale individual instances. If you get errors, wait and attempt them again.*\n",
        "\n",
        "Errors results in a FAIL Status string instead of embeddings in the returned list.\n",
        "\n",
        "**NOTE:** Up to 300 parallel requests can be made if the system is fully scaled. Please start at 50 and reduce requests if you are getting end point errors."
      ]
    },
    {
      "cell_type": "code",
      "execution_count": null,
      "metadata": {
        "id": "qzal615K4rDv"
      },
      "outputs": [],
      "source": [
        "# @title Python methods to call CT Foundation's API with NIfTI URLs.\n",
        "\n",
        "from concurrent.futures import ThreadPoolExecutor\n",
        "import dataclasses\n",
        "import functools\n",
        "import json\n",
        "from typing import Any, Tuple\n",
        "import google.auth\n",
        "import google.auth.transport.requests\n",
        "import numpy as np\n",
        "\n",
        "\n",
        "@dataclasses.dataclass(eq=False, frozen=True)\n",
        "class Response:\n",
        "  \"\"\"Response from a Vertex Endpoint.\"\"\"\n",
        "\n",
        "  status_code: int\n",
        "  response_json: dict[str, Any] | None  # json_types.JSONObject\n",
        "\n",
        "\n",
        "class Endpoint:\n",
        "  \"\"\"Calling utility for a Vertex Endpoint using default credentials.\"\"\"\n",
        "\n",
        "  def __init__(self):\n",
        "    self._endpoint_url = (\n",
        "        'https://us-central1-aiplatform.googleapis.com/v1/projects/'\n",
        "        'hai-cd3-foundations/locations/us-central1/endpoints/300'\n",
        "    )\n",
        "\n",
        "  def predict(\n",
        "      self,\n",
        "      instances=list[Any],\n",
        "      parameters: dict[str, Any] | None = None,\n",
        "      credentials: google.auth.credentials.Credentials | None = None,\n",
        "  ) -\u003e Response:\n",
        "    \"\"\"Calls the Vertex Endpoint with the given instances and parameters.\"\"\"\n",
        "    if credentials is None:\n",
        "      credentials = google.auth.default()[0]\n",
        "    session = google.auth.transport.requests.AuthorizedSession(\n",
        "        credentials=credentials\n",
        "    )\n",
        "    response = session.post(\n",
        "        self._endpoint_url + ':predict',\n",
        "        json=(\n",
        "            {'instances': instances}\n",
        "            | ({'parameters': parameters} if parameters is not None else {})\n",
        "        ),\n",
        "        headers={\n",
        "            'Content-Type': 'application/json',\n",
        "        },\n",
        "        timeout=400,\n",
        "    )\n",
        "    try:\n",
        "      response_json = response.json()\n",
        "    except json.JSONDecodeError:\n",
        "      # Not expected, handling in case server incorrectly returns non-JSON.\n",
        "      response_json = None\n",
        "    return Response(\n",
        "        status_code=response.status_code,\n",
        "        response_json=response_json,\n",
        "    )\n",
        "\n",
        "\n",
        "def call_single_batch(\n",
        "    caller: Endpoint, credentials, urls: list[str], access_token: str\n",
        ") -\u003e list[Tuple[np.ndarray | str, str]]:\n",
        "  \"\"\"Handles calls for a single batch and returns embeddings.\"\"\"\n",
        "  return_data = []\n",
        "  if not credentials.valid:\n",
        "    credentials.refresh(google.auth.transport.requests.Request())\n",
        "  instances = [\n",
        "      {'gcs_uri': a_url, 'bearer_token': f'{access_token}'} for a_url in urls\n",
        "  ]\n",
        "  returns = caller.predict(instances=instances)\n",
        "  if returns.status_code != 200:\n",
        "    for a_url in urls:\n",
        "      return_data.append((f'FAIL STATUS {returns.status_code}', a_url))\n",
        "    return return_data\n",
        "  else:\n",
        "    for i in range(len(returns.response_json['predictions'])):\n",
        "      if returns.response_json['predictions'][i]['error_response']:\n",
        "        return_data.append(\n",
        "            (returns.response_json['predictions'][i]['error_response'], urls[i])\n",
        "        )\n",
        "      else:\n",
        "        embeddings = returns.response_json['predictions'][i][\n",
        "            'embedding_result'\n",
        "        ]['embedding']\n",
        "        return_data.append((embeddings, urls[i]))\n",
        "    return return_data\n",
        "\n",
        "\n",
        "def get_ct_embeddings(\n",
        "    caller: Endpoint,\n",
        "    credentials,\n",
        "    urls: list[str],\n",
        "    access_token: str,\n",
        "    batch_size: int,\n",
        "    parallel_size: int,\n",
        ") -\u003e list[Tuple[np.ndarray | str, str]]:\n",
        "  \"\"\"Handles calls and returns for parallel requests.\n",
        "\n",
        "  Args:\n",
        "    caller: CT foundation API caller.\n",
        "    credentials: The credentials for the API.\n",
        "    urls: List of urls to the NIfTI files in the cloud bucket. This must be of\n",
        "      length batch_size * parallel_size.\n",
        "    access_token: Access token for the DICOM store.\n",
        "    batch_size: The number of volumes to pass in a batch (max 5).\n",
        "    parallel_size: The number of parallel calls.\n",
        "\n",
        "  Returns:\n",
        "    Tuple list of embeddings | errors and the corresponding urls from which\n",
        "      the embeddings were computed.\n",
        "  \"\"\"\n",
        "  assert batch_size \u003c 6, 'Batch size must be 5 or less.'\n",
        "  assert (\n",
        "      len(urls) == batch_size * parallel_size\n",
        "  ), 'Error in batch, parallel sizes versus requests'\n",
        "\n",
        "  # Setup up parallel batches\n",
        "  p_urls = []\n",
        "  for i in range(parallel_size):\n",
        "    p_urls.append(urls[i * batch_size : (i + 1) * batch_size])\n",
        "\n",
        "  # Check for correct sizing\n",
        "  assert len(p_urls) == parallel_size, 'Error in batch, parallel dimensions'\n",
        "\n",
        "  call_batch = functools.partial(call_single_batch, caller, credentials)\n",
        "\n",
        "  # Launch parallel calls\n",
        "  with ThreadPoolExecutor(max_workers=parallel_size) as executor:\n",
        "    futures = [\n",
        "        executor.submit(call_batch, b_urls, access_token) for b_urls in p_urls\n",
        "    ]\n",
        "    results = [f.result() for f in futures]\n",
        "  # Unpack results into a single list\n",
        "  return_results = []\n",
        "  for b_result in results:\n",
        "    for a_result in b_result:\n",
        "      return_results.append(a_result)\n",
        "  return return_results"
      ]
    },
    {
      "cell_type": "code",
      "execution_count": null,
      "metadata": {
        "colab": {
          "base_uri": "https://localhost:8080/"
        },
        "executionInfo": {
          "elapsed": 50135,
          "status": "ok",
          "timestamp": 1735260334739,
          "user": {
            "displayName": "Atilla Kiraly",
            "userId": "05048620842291012574"
          },
          "user_tz": 480
        },
        "id": "O_YHl2E30nHo",
        "outputId": "3c19a48d-e916-4d84-d6a4-bf3e154ab685"
      },
      "outputs": [
        {
          "name": "stdout",
          "output_type": "stream",
          "text": [
            "Total return results: 3\n",
            "Example from first result....\n",
            "Embeddings or error message for the CT: gs://hai-cd3-foundations-ct3d-vault-entry/lidc/1.3.6.1.4.1.14519.5.2.1.6279.6001.153985109349433321657655488650.nii.gz\n",
            "[-0.7965675592422485, 0.5134899020195007, -0.8446145057678223, 1.650375247001648, -0.8611537218093872, -0.2983881235122681, -0.2350313514471054, -0.03746968880295753, -0.3491234481334686, -1.801878094673157, -1.586135625839233, -0.4713811874389648, -2.144275426864624, -0.7525808811187744, -1.480953454971313, -1.538024544715881, 0.5738796591758728, 1.313102841377258, -0.2632680535316467, 0.3683145642280579, 1.029897928237915, 0.8377450704574585, -0.3613732159137726, -0.5696321129798889, 1.217603325843811, 1.230955719947815, -0.5118405818939209, -0.7924652695655823, -3.048054456710815, -0.7912593483924866, 0.3353587687015533, 0.2827237546443939, 1.442557692527771, 0.8849602937698364, -0.7764493227005005, 0.1428226083517075, 0.3671017587184906, 1.952146053314209, -0.3514912724494934, 1.842739820480347, -0.3544785976409912, 0.2417169660329819, -0.7751660943031311, 0.1762910336256027, -1.783307671546936, -1.149630188941956, 0.0692630335688591, 0.5686244368553162, -12.09462928771973, -1.875924110412598, -1.219196677207947, -0.1260606199502945, -0.1164686307311058, -0.1457482129335403, 0.7201915979385376, -0.4079811275005341, 0.9572898745536804, 0.7244374752044678, 0.5630253553390503, -1.24596631526947, 0.8200486302375793, 0.3105296790599823, -0.02771743386983871, -0.1100996062159538, -0.4727568924427032, -0.390622615814209, -0.9264750480651855, 0.2747832238674164, -0.2297811806201935, 0.9920471906661987, -0.8131670355796814, -2.047826290130615, 0.2760306894779205, -0.06217198446393013, -2.015258550643921, 0.6494953632354736, 0.2767713367938995, -0.02278147451579571, 0.9615468978881836, -0.1167295426130295, -0.6333149671554565, -0.808796226978302, -1.458968997001648, -12.90235900878906, 1.366319060325623, 2.576537847518921, 0.05946076288819313, -1.634147763252258, 1.567766904830933, -1.39142918586731, 0.3895932734012604, 1.563053011894226, -0.6317889094352722, 1.635236859321594, -1.018632054328918, 1.239987730979919, -1.438684582710266, 0.4594901502132416, -0.9757364988327026, -0.3249621093273163, -1.145402669906616, -0.2076296955347061, -0.7035889029502869, 1.648777961730957, -0.3926607966423035, 0.5516895651817322, -0.5208680033683777, -0.7852440476417542, -5.673978328704834, 1.527111768722534, 2.060920715332031, 0.7026843428611755, -2.1344153881073, -1.597329020500183, -1.749076247215271, -0.03383981809020042, 0.4438547194004059, 0.06083890423178673, -1.155190706253052, -1.129963636398315, -0.5736754536628723, 0.9013108611106873, 0.8151981830596924, 0.7845669388771057, -1.381725788116455, -1.233103156089783, 0.3437808156013489, 0.06051932275295258, -1.329390406608582, 1.415947437286377, 0.6161912679672241, -1.51912522315979, -1.202917814254761, 1.038185477256775, -0.3963474631309509, 0.5215762853622437, -0.6968896389007568, 0.6470488905906677, -0.7901556491851807, 0.1597202122211456, -0.2894530594348907, 8.331066131591797, 0.7228761315345764, 0.5426238179206848, -0.780598521232605, -0.5521707534790039, -2.242068290710449, -0.8114600777626038, 13.84290790557861, 0.1823937743902206, -1.157050371170044, 0.9880934953689575, 1.956438899040222, -2.009904623031616, -1.546777129173279, 0.04649414122104645, -0.3516620695590973, 0.6537380218505859, 0.416407436132431, 0.3280924558639526, -1.182881951332092, -0.5248252153396606, -0.7084537744522095, 0.8692241311073303, -0.2711511552333832, -0.7275656461715698, 0.04006538540124893, 0.4616891443729401, 0.1268389970064163, 0.1764973551034927, -1.317331790924072, -0.3270544111728668, 0.8165328502655029, 1.639798760414124, 1.060578227043152, 0.2552553415298462, 0.256375789642334, -0.4708130359649658, -1.820381879806519, -0.3544184565544128, 0.6361455321311951, -0.4519403874874115, 1.424768328666687, 0.6230142712593079, 0.2394085228443146, -0.4420305788516998, 1.893848061561584, -0.2984418272972107, -1.291682600975037, 0.651303231716156, -0.8504335284233093, -0.1771998107433319, 3.309571743011475, 0.7501640319824219, 0.6711061000823975, -0.3467229306697845, -0.9383464455604553, 1.316054940223694, -1.05999219417572, -2.02212381362915, 0.6254978775978088, 0.4973544776439667, -0.7636421322822571, 0.02641184441745281, -1.017624974250793, 1.078248262405396, 0.04602017626166344, 0.05706160143017769, -0.6955950856208801, 0.460323691368103, 0.7361060380935669, -8.374971389770508, 0.9818248152732849, -1.791297197341919, 0.7747210264205933, -0.3331880271434784, -0.1014450192451477, 0.887870728969574, -0.0202027689665556, -0.9150124192237854, 0.1213126331567764, -0.03476237505674362, -0.3398230373859406, 0.3694818615913391, 0.5386954545974731, -1.944607019424438, 0.7612118721008301, -0.9297764301300049, 0.6198800802230835, -0.003361904295161366, -0.9247478246688843, -0.1783531159162521, -0.4093204438686371, 2.385180473327637, 1.69232189655304, -0.7698523998260498, 1.536502599716187, -10.83251667022705, -1.139509677886963, -0.9266784191131592, 0.9258235692977905, -0.8516161441802979, 0.322496235370636, 1.224373579025269, 0.2842976450920105, 0.6972156763076782, 0.6813772320747375, -0.7745431065559387, 18.6807689666748, 0.6165403723716736, 0.1475813388824463, -1.446012616157532, 1.202224731445312, -1.096270561218262, 0.5314616560935974, -2.593122720718384, -0.4429987072944641, -0.4429987072944641, -0.4429987072944641, -0.4429987072944641, -0.4429987072944641, -0.4429987072944641, -0.4429987072944641, -0.4429987072944641, -0.2544381618499756, -0.2544381618499756, -0.2544381618499756, -0.2544381618499756, -0.2544381618499756, -0.2544381618499756, -0.2544381618499756, -0.2544381618499756, -0.1838415265083313, -0.1838415265083313, -0.1838415265083313, -0.1838415265083313, -0.1838415265083313, -0.1838415265083313, -0.1838415265083313, -0.1838415265083313, 0.001715043094009161, 0.001715043094009161, 0.001715043094009161, 0.001715043094009161, 0.001715043094009161, 0.001715043094009161, 0.001715043094009161, 0.001715043094009161, 0.4880383312702179, 0.4880383312702179, 0.4880383312702179, 0.4880383312702179, 0.4880383312702179, 0.4880383312702179, 0.4880383312702179, 0.4880383312702179, -0.4795813858509064, -0.4795813858509064, -0.4795813858509064, -0.4795813858509064, -0.4795813858509064, -0.4795813858509064, -0.4795813858509064, -0.4795813858509064, 0.06977822631597519, 0.06977822631597519, 0.06977822631597519, 0.06977822631597519, 0.06977822631597519, 0.06977822631597519, 0.06977822631597519, 0.06977822631597519, 0.06977822631597519, 0.06977822631597519, 0.06977822631597519, 0.06977822631597519, 0.06977822631597519, 0.06977822631597519, 0.06977822631597519, 0.06977822631597519, 0.06977822631597519, 0.06977822631597519, 0.06977822631597519, 0.06977822631597519, 0.06977822631597519, 0.06977822631597519, 0.06977822631597519, 0.06977822631597519, 0.06977822631597519, 0.06977822631597519, 0.06977822631597519, 0.06977822631597519, 0.06977822631597519, 0.06977822631597519, 0.06977822631597519, 0.06977822631597519, 0.06977822631597519, 0.06977822631597519, 0.06977822631597519, 0.06977822631597519, 0.06977822631597519, 0.06977822631597519, 0.06977822631597519, 0.06977822631597519, 0.06977822631597519, 0.06977822631597519, 0.06977822631597519, 0.06977822631597519, 0.06977822631597519, 0.06977822631597519, 0.06977822631597519, 0.06977822631597519, -0.09211921691894531, -0.09211921691894531, -0.09211921691894531, -0.09211921691894531, -0.09211921691894531, -0.09211921691894531, -0.09211921691894531, -0.09211921691894531, -0.09211921691894531, -0.09211921691894531, -0.09211921691894531, -0.09211921691894531, -0.09211921691894531, -0.09211921691894531, -0.09211921691894531, -0.09211921691894531, -0.227766215801239, -0.227766215801239, -0.227766215801239, -0.227766215801239, -0.227766215801239, -0.227766215801239, -0.227766215801239, -0.227766215801239, -0.1026541292667389, -0.1026541292667389, -0.1026541292667389, -0.1026541292667389, -0.1026541292667389, -0.1026541292667389, -0.1026541292667389, -0.1026541292667389, 0.1602780669927597, 0.1602780669927597, 0.1602780669927597, 0.1602780669927597, 0.1602780669927597, 0.1602780669927597, 0.1602780669927597, 0.1602780669927597, -0.1008763611316681, -0.1008763611316681, -0.1008763611316681, -0.1008763611316681, -0.1008763611316681, -0.1008763611316681, -0.1008763611316681, -0.1008763611316681, -0.2904365658760071, -0.2904365658760071, -0.2904365658760071, -0.2904365658760071, -0.2904365658760071, -0.2904365658760071, -0.2904365658760071, -0.2904365658760071, -0.3246481120586395, -0.3246481120586395, -0.3246481120586395, -0.3246481120586395, -0.3246481120586395, -0.3246481120586395, -0.3246481120586395, -0.3246481120586395, -0.05033670738339424, -0.05033670738339424, -0.05033670738339424, -0.05033670738339424, -0.05033670738339424, -0.05033670738339424, -0.05033670738339424, -0.05033670738339424, -0.04908021539449692, -0.04908021539449692, -0.04908021539449692, -0.04908021539449692, -0.04908021539449692, -0.04908021539449692, -0.04908021539449692, -0.04908021539449692, 0.1370256990194321, 0.1370256990194321, 0.1370256990194321, 0.1370256990194321, 0.1370256990194321, 0.1370256990194321, 0.1370256990194321, 0.1370256990194321, 0.1370256990194321, 0.1370256990194321, 0.1370256990194321, 0.1370256990194321, 0.1370256990194321, 0.1370256990194321, 0.1370256990194321, 0.1370256990194321, 0.3343420326709747, 0.3343420326709747, 0.3343420326709747, 0.3343420326709747, 0.3343420326709747, 0.3343420326709747, 0.3343420326709747, 0.3343420326709747, -0.2376299649477005, -0.2376299649477005, -0.2376299649477005, -0.2376299649477005, -0.2376299649477005, -0.2376299649477005, -0.2376299649477005, -0.2376299649477005, -0.2228987962007523, -0.2228987962007523, -0.2228987962007523, -0.2228987962007523, -0.2228987962007523, -0.2228987962007523, -0.2228987962007523, -0.2228987962007523, 0.3125468194484711, 0.3125468194484711, 0.3125468194484711, 0.3125468194484711, 0.3125468194484711, 0.3125468194484711, 0.3125468194484711, 0.3125468194484711, 0.1600765436887741, 0.1600765436887741, 0.1600765436887741, 0.1600765436887741, 0.1600765436887741, 0.1600765436887741, 0.1600765436887741, 0.1600765436887741, 0.4863696694374084, 0.4863696694374084, 0.4863696694374084, 0.4863696694374084, 0.4863696694374084, 0.4863696694374084, 0.4863696694374084, 0.4863696694374084, -0.2827071249485016, -0.2827071249485016, -0.2827071249485016, -0.2827071249485016, -0.2827071249485016, -0.2827071249485016, -0.2827071249485016, -0.2827071249485016, 0.09212783724069595, 0.09212783724069595, 0.09212783724069595, 0.09212783724069595, 0.09212783724069595, 0.09212783724069595, 0.09212783724069595, 0.09212783724069595, 0.09212783724069595, 0.09212783724069595, 0.09212783724069595, 0.09212783724069595, 0.09212783724069595, 0.09212783724069595, 0.09212783724069595, 0.09212783724069595, 0.09212783724069595, 0.09212783724069595, 0.09212783724069595, 0.09212783724069595, 0.09212783724069595, 0.09212783724069595, 0.09212783724069595, 0.09212783724069595, 0.09212783724069595, 0.09212783724069595, 0.09212783724069595, 0.09212783724069595, 0.09212783724069595, 0.09212783724069595, 0.09212783724069595, 0.09212783724069595, 0.09212783724069595, 0.09212783724069595, 0.09212783724069595, 0.09212783724069595, 0.09212783724069595, 0.09212783724069595, 0.09212783724069595, 0.09212783724069595, 0.09212783724069595, 0.09212783724069595, 0.09212783724069595, 0.09212783724069595, 0.09212783724069595, 0.09212783724069595, 0.09212783724069595, 0.09212783724069595, 0.09212783724069595, 0.09212783724069595, 0.09212783724069595, 0.09212783724069595, 0.09212783724069595, 0.09212783724069595, 0.09212783724069595, 0.09212783724069595, 0.09212783724069595, 0.09212783724069595, 0.09212783724069595, 0.09212783724069595, 0.09212783724069595, 0.09212783724069595, 0.09212783724069595, 0.09212783724069595, 0.09212783724069595, 0.09212783724069595, 0.09212783724069595, 0.09212783724069595, 0.09212783724069595, 0.09212783724069595, 0.09212783724069595, 0.09212783724069595, -0.1740880757570267, -0.1740880757570267, -0.1740880757570267, -0.1740880757570267, -0.1740880757570267, -0.1740880757570267, -0.1740880757570267, -0.1740880757570267, 0.1277803331613541, 0.1277803331613541, 0.1277803331613541, 0.1277803331613541, 0.1277803331613541, 0.1277803331613541, 0.1277803331613541, 0.1277803331613541, 0.2072310894727707, 0.2072310894727707, 0.2072310894727707, 0.2072310894727707, 0.2072310894727707, 0.2072310894727707, 0.2072310894727707, 0.2072310894727707, -0.4742792844772339, -0.4742792844772339, -0.4742792844772339, -0.4742792844772339, -0.4742792844772339, -0.4742792844772339, -0.4742792844772339, -0.4742792844772339, 0.2363065779209137, 0.2363065779209137, 0.2363065779209137, 0.2363065779209137, 0.2363065779209137, 0.2363065779209137, 0.2363065779209137, 0.2363065779209137, -0.1378926187753677, -0.1378926187753677, -0.1378926187753677, -0.1378926187753677, -0.1378926187753677, -0.1378926187753677, -0.1378926187753677, -0.1378926187753677, -0.05746304988861084, -0.05746304988861084, -0.05746304988861084, -0.05746304988861084, -0.05746304988861084, -0.05746304988861084, -0.05746304988861084, -0.05746304988861084, -0.3966083526611328, -0.3966083526611328, -0.3966083526611328, -0.3966083526611328, -0.3966083526611328, -0.3966083526611328, -0.3966083526611328, -0.3966083526611328, -0.3355660736560822, -0.3355660736560822, -0.3355660736560822, -0.3355660736560822, -0.3355660736560822, -0.3355660736560822, -0.3355660736560822, -0.3355660736560822, -0.4785234332084656, -0.4785234332084656, -0.4785234332084656, -0.4785234332084656, -0.4785234332084656, -0.4785234332084656, -0.4785234332084656, -0.4785234332084656, -0.4096722304821014, -0.4096722304821014, -0.4096722304821014, -0.4096722304821014, -0.4096722304821014, -0.4096722304821014, -0.4096722304821014, -0.4096722304821014, -0.3784172832965851, -0.3784172832965851, -0.3784172832965851, -0.3784172832965851, -0.3784172832965851, -0.3784172832965851, -0.3784172832965851, -0.3784172832965851, 0.3610031306743622, 0.3610031306743622, 0.3610031306743622, 0.3610031306743622, 0.3610031306743622, 0.3610031306743622, 0.3610031306743622, 0.3610031306743622, 0.07657499611377716, 0.07657499611377716, 0.07657499611377716, 0.07657499611377716, 0.07657499611377716, 0.07657499611377716, 0.07657499611377716, 0.07657499611377716, -0.3243415355682373, -0.3243415355682373, -0.3243415355682373, -0.3243415355682373, -0.3243415355682373, -0.3243415355682373, -0.3243415355682373, -0.3243415355682373, 0.1612542867660522, 0.1612542867660522, 0.1612542867660522, 0.1612542867660522, 0.1612542867660522, 0.1612542867660522, 0.1612542867660522, 0.1612542867660522, 0.0914880633354187, 0.0914880633354187, 0.0914880633354187, 0.0914880633354187, 0.0914880633354187, 0.0914880633354187, 0.0914880633354187, 0.0914880633354187, 0.0914880633354187, 0.0914880633354187, 0.0914880633354187, 0.0914880633354187, 0.0914880633354187, 0.0914880633354187, 0.0914880633354187, 0.0914880633354187, 0.0914880633354187, 0.0914880633354187, 0.0914880633354187, 0.0914880633354187, 0.0914880633354187, 0.0914880633354187, 0.0914880633354187, 0.0914880633354187, 0.0914880633354187, 0.0914880633354187, 0.0914880633354187, 0.0914880633354187, 0.0914880633354187, 0.0914880633354187, 0.0914880633354187, 0.0914880633354187, 0.0914880633354187, 0.0914880633354187, 0.0914880633354187, 0.0914880633354187, 0.0914880633354187, 0.0914880633354187, 0.0914880633354187, 0.0914880633354187, 0.0914880633354187, 0.0914880633354187, 0.0914880633354187, 0.0914880633354187, 0.0914880633354187, 0.0914880633354187, 0.0914880633354187, 0.0914880633354187, 0.0914880633354187, 0.0914880633354187, 0.0914880633354187, 0.0914880633354187, 0.0914880633354187, 0.0914880633354187, 0.0914880633354187, 0.0914880633354187, 0.0914880633354187, 0.0914880633354187, 0.0914880633354187, 0.0914880633354187, 0.0914880633354187, 0.0914880633354187, 0.0914880633354187, 0.0914880633354187, 0.0914880633354187, 0.0914880633354187, 0.0914880633354187, 0.0914880633354187, 0.0914880633354187, 0.0914880633354187, 0.0914880633354187, 0.0914880633354187, -0.3854588568210602, -0.3854588568210602, -0.3854588568210602, -0.3854588568210602, -0.3854588568210602, -0.3854588568210602, -0.3854588568210602, -0.3854588568210602, -0.1472289264202118, -0.1472289264202118, -0.1472289264202118, -0.1472289264202118, -0.1472289264202118, -0.1472289264202118, -0.1472289264202118, -0.1472289264202118, 0.1019957736134529, 0.1019957736134529, 0.1019957736134529, 0.1019957736134529, 0.1019957736134529, 0.1019957736134529, 0.1019957736134529, 0.1019957736134529, 0.4119987487792969, 0.4119987487792969, 0.4119987487792969, 0.4119987487792969, 0.4119987487792969, 0.4119987487792969, 0.4119987487792969, 0.4119987487792969, 0.5966750979423523, 0.5966750979423523, 0.5966750979423523, 0.5966750979423523, 0.5966750979423523, 0.5966750979423523, 0.5966750979423523, 0.5966750979423523, -0.1310926377773285, -0.1310926377773285, -0.1310926377773285, -0.1310926377773285, -0.1310926377773285, -0.1310926377773285, -0.1310926377773285, -0.1310926377773285, 0.06168029457330704, 0.06168029457330704, 0.06168029457330704, 0.06168029457330704, 0.06168029457330704, 0.06168029457330704, 0.06168029457330704, 0.06168029457330704, -0.8485902547836304, -0.8485902547836304, -0.8485902547836304, -0.8485902547836304, -0.8485902547836304, -0.8485902547836304, -0.8485902547836304, -0.8485902547836304, 0.04694368317723274, 0.04694368317723274, 0.04694368317723274, 0.04694368317723274, 0.04694368317723274, 0.04694368317723274, 0.04694368317723274, 0.04694368317723274, -0.1412074863910675, -0.1412074863910675, -0.1412074863910675, -0.1412074863910675, -0.1412074863910675, -0.1412074863910675, -0.1412074863910675, -0.1412074863910675, 0.150303840637207, 0.150303840637207, 0.150303840637207, 0.150303840637207, 0.150303840637207, 0.150303840637207, 0.150303840637207, 0.150303840637207, -0.2436426877975464, -0.2436426877975464, -0.2436426877975464, -0.2436426877975464, -0.2436426877975464, -0.2436426877975464, -0.2436426877975464, -0.2436426877975464, -0.1323047578334808, -0.1323047578334808, -0.1323047578334808, -0.1323047578334808, -0.1323047578334808, -0.1323047578334808, -0.1323047578334808, -0.1323047578334808, -0.1162844598293304, -0.1162844598293304, -0.1162844598293304, -0.1162844598293304, -0.1162844598293304, -0.1162844598293304, -0.1162844598293304, -0.1162844598293304, 0.07361681014299393, 0.07361681014299393, 0.07361681014299393, 0.07361681014299393, 0.07361681014299393, 0.07361681014299393, 0.07361681014299393, 0.07361681014299393, 0.05323693156242371, 0.05323693156242371, 0.05323693156242371, 0.05323693156242371, 0.05323693156242371, 0.05323693156242371, 0.05323693156242371, 0.05323693156242371, 0.05323693156242371, 0.05323693156242371, 0.05323693156242371, 0.05323693156242371, 0.05323693156242371, 0.05323693156242371, 0.05323693156242371, 0.05323693156242371, 0.05323693156242371, 0.05323693156242371, 0.05323693156242371, 0.05323693156242371, 0.05323693156242371, 0.05323693156242371, 0.05323693156242371, 0.05323693156242371, 0.05323693156242371, 0.05323693156242371, 0.05323693156242371, 0.05323693156242371, 0.05323693156242371, 0.05323693156242371, 0.05323693156242371, 0.05323693156242371, 0.05323693156242371, 0.05323693156242371, 0.05323693156242371, 0.05323693156242371, 0.05323693156242371, 0.05323693156242371, 0.05323693156242371, 0.05323693156242371, 0.05323693156242371, 0.05323693156242371, 0.05323693156242371, 0.05323693156242371, 0.05323693156242371, 0.05323693156242371, 0.05323693156242371, 0.05323693156242371, 0.05323693156242371, 0.05323693156242371, 0.05323693156242371, 0.05323693156242371, 0.05323693156242371, 0.05323693156242371, 0.05323693156242371, 0.05323693156242371, 0.05323693156242371, 0.05323693156242371, 0.05323693156242371, 0.05323693156242371, 0.05323693156242371, 0.05323693156242371, 0.05323693156242371, 0.05323693156242371, 0.04811248555779457, 0.04811248555779457, 0.04811248555779457, 0.04811248555779457, 0.04811248555779457, 0.04811248555779457, 0.04811248555779457, 0.04811248555779457, 0.04811248555779457, 0.04811248555779457, 0.04811248555779457, 0.04811248555779457, 0.04811248555779457, 0.04811248555779457, 0.04811248555779457, 0.04811248555779457, 0.5040417313575745, 0.5040417313575745, 0.5040417313575745, 0.5040417313575745, 0.5040417313575745, 0.5040417313575745, 0.5040417313575745, 0.5040417313575745, -0.07457683980464935, -0.07457683980464935, -0.07457683980464935, -0.07457683980464935, -0.07457683980464935, -0.07457683980464935, -0.07457683980464935, -0.07457683980464935, -0.04133280366659164, -0.04133280366659164, -0.04133280366659164, -0.04133280366659164, -0.04133280366659164, -0.04133280366659164, -0.04133280366659164, -0.04133280366659164, 0.3114679157733917, 0.3114679157733917, 0.3114679157733917, 0.3114679157733917, 0.3114679157733917, 0.3114679157733917, 0.3114679157733917, 0.3114679157733917, -0.2141450047492981, -0.2141450047492981, -0.2141450047492981, -0.2141450047492981, -0.2141450047492981, -0.2141450047492981, -0.2141450047492981, -0.2141450047492981, 0.07380077242851257, 0.07380077242851257, 0.07380077242851257, 0.07380077242851257, 0.07380077242851257, 0.07380077242851257, 0.07380077242851257, 0.07380077242851257, -0.1835760772228241, -0.1835760772228241, -0.1835760772228241, -0.1835760772228241, -0.1835760772228241, -0.1835760772228241, -0.1835760772228241, -0.1835760772228241, -0.3808410465717316, -0.3808410465717316, -0.3808410465717316, -0.3808410465717316, -0.3808410465717316, -0.3808410465717316, -0.3808410465717316, -0.3808410465717316, 0.1666002571582794, 0.1666002571582794, 0.1666002571582794, 0.1666002571582794, 0.1666002571582794, 0.1666002571582794, 0.1666002571582794, 0.1666002571582794, 0.1666002571582794, 0.1666002571582794, 0.1666002571582794, 0.1666002571582794, 0.1666002571582794, 0.1666002571582794, 0.1666002571582794, 0.1666002571582794, 0.2001668810844421, 0.2001668810844421, 0.2001668810844421, 0.2001668810844421, 0.2001668810844421, 0.2001668810844421, 0.2001668810844421, 0.2001668810844421, -0.0130136776715517, -0.0130136776715517, -0.0130136776715517, -0.0130136776715517, -0.0130136776715517, -0.0130136776715517, -0.0130136776715517, -0.0130136776715517, -0.3662250936031342, -0.3662250936031342, -0.3662250936031342, -0.3662250936031342, -0.3662250936031342, -0.3662250936031342, -0.3662250936031342, -0.3662250936031342, -0.3312801718711853, -0.3312801718711853, -0.3312801718711853, -0.3312801718711853, -0.3312801718711853, -0.3312801718711853, -0.3312801718711853, -0.3312801718711853, -0.04395286366343498, -0.04395286366343498, -0.04395286366343498, -0.04395286366343498, -0.04395286366343498, -0.04395286366343498, -0.04395286366343498, -0.04395286366343498, -0.3282392024993896, -0.3282392024993896, -0.3282392024993896, -0.3282392024993896, -0.3282392024993896, -0.3282392024993896, -0.3282392024993896, -0.3282392024993896, 0.05785287916660309, 0.05785287916660309, 0.05785287916660309, 0.05785287916660309, 0.05785287916660309, 0.05785287916660309, 0.05785287916660309, 0.05785287916660309, 0.05785287916660309, 0.05785287916660309, 0.05785287916660309, 0.05785287916660309, 0.05785287916660309, 0.05785287916660309, 0.05785287916660309, 0.05785287916660309, 0.05785287916660309, 0.05785287916660309, 0.05785287916660309, 0.05785287916660309, 0.05785287916660309, 0.05785287916660309, 0.05785287916660309, 0.05785287916660309, 0.05785287916660309, 0.05785287916660309, 0.05785287916660309, 0.05785287916660309, 0.05785287916660309, 0.05785287916660309, 0.05785287916660309, 0.05785287916660309, 0.05785287916660309, 0.05785287916660309, 0.05785287916660309, 0.05785287916660309, 0.05785287916660309, 0.05785287916660309, 0.05785287916660309, 0.05785287916660309, 0.05785287916660309, 0.05785287916660309, 0.05785287916660309, 0.05785287916660309, 0.05785287916660309, 0.05785287916660309, 0.05785287916660309, 0.05785287916660309, 0.05785287916660309, 0.05785287916660309, 0.05785287916660309, 0.05785287916660309, 0.05785287916660309, 0.05785287916660309, 0.05785287916660309, 0.05785287916660309, 0.05785287916660309, 0.05785287916660309, 0.05785287916660309, 0.05785287916660309, 0.05785287916660309, 0.05785287916660309, 0.05785287916660309, 0.05785287916660309, 0.05785287916660309, 0.05785287916660309, 0.05785287916660309, 0.05785287916660309, 0.05785287916660309, 0.05785287916660309, 0.05785287916660309, 0.05785287916660309, 0.05785287916660309, 0.05785287916660309, 0.05785287916660309, 0.05785287916660309, 0.05785287916660309, 0.05785287916660309, 0.05785287916660309, 0.05785287916660309, -0.03031213395297527, -0.03031213395297527, -0.03031213395297527, -0.03031213395297527, -0.03031213395297527, -0.03031213395297527, -0.03031213395297527, -0.03031213395297527, 0.1929476112127304, 0.1929476112127304, 0.1929476112127304, 0.1929476112127304, 0.1929476112127304, 0.1929476112127304, 0.1929476112127304, 0.1929476112127304, 0.2327951639890671, 0.2327951639890671, 0.2327951639890671, 0.2327951639890671, 0.2327951639890671, 0.2327951639890671, 0.2327951639890671, 0.2327951639890671, -0.2229476571083069, -0.2229476571083069, -0.2229476571083069, -0.2229476571083069, -0.2229476571083069, -0.2229476571083069, -0.2229476571083069, -0.2229476571083069, 0.2403829544782639, 0.2403829544782639, 0.2403829544782639, 0.2403829544782639, 0.2403829544782639, 0.2403829544782639, 0.2403829544782639, 0.2403829544782639, 0.3644478619098663, 0.3644478619098663, 0.3644478619098663, 0.3644478619098663, 0.3644478619098663, 0.3644478619098663, 0.3644478619098663, 0.3644478619098663, 0.3005984723567963, 0.3005984723567963, 0.3005984723567963, 0.3005984723567963, 0.3005984723567963, 0.3005984723567963, 0.3005984723567963, 0.3005984723567963, 0.3739700615406036, 0.3739700615406036, 0.3739700615406036, 0.3739700615406036, 0.3739700615406036, 0.3739700615406036, 0.3739700615406036, 0.3739700615406036, 0.05886261537671089, 0.05886261537671089, 0.05886261537671089, 0.05886261537671089, 0.05886261537671089, 0.05886261537671089, 0.05886261537671089, 0.05886261537671089, -0.05340651795268059, -0.05340651795268059, -0.05340651795268059, -0.05340651795268059, -0.05340651795268059, -0.05340651795268059, -0.05340651795268059, -0.05340651795268059, -0.02718279138207436, -0.02718279138207436, -0.02718279138207436, -0.02718279138207436, -0.02718279138207436, -0.02718279138207436, -0.02718279138207436, -0.02718279138207436, -0.1009740680456161, -0.1009740680456161, -0.1009740680456161, -0.1009740680456161, -0.1009740680456161, -0.1009740680456161, -0.1009740680456161, -0.1009740680456161, 0.0782337337732315, 0.0782337337732315, 0.0782337337732315, 0.0782337337732315, 0.0782337337732315, 0.0782337337732315, 0.0782337337732315, 0.0782337337732315, -0.3604893386363983, -0.3604893386363983, -0.3604893386363983, -0.3604893386363983, -0.3604893386363983, -0.3604893386363983, -0.3604893386363983, -0.3604893386363983, 0.1580826342105865, 0.1580826342105865, 0.1580826342105865, 0.1580826342105865, 0.1580826342105865, 0.1580826342105865, 0.1580826342105865, 0.1580826342105865, -0.3320332467556, -0.3320332467556, -0.3320332467556, -0.3320332467556, -0.3320332467556, -0.3320332467556, -0.3320332467556, -0.3320332467556, 0.3527840077877045, 0.3527840077877045, 0.3527840077877045, 0.3527840077877045, 0.3527840077877045, 0.3527840077877045, 0.3527840077877045, 0.3527840077877045, 0.3527840077877045, 0.3527840077877045, 0.3527840077877045, 0.3527840077877045, 0.3527840077877045, 0.3527840077877045, 0.3527840077877045, 0.3527840077877045, 0.3527840077877045, 0.3527840077877045, 0.3527840077877045, 0.3527840077877045, 0.3527840077877045, 0.3527840077877045, 0.3527840077877045, 0.3527840077877045, 0.3527840077877045, 0.3527840077877045, 0.3527840077877045, 0.3527840077877045, 0.3527840077877045, 0.3527840077877045, 0.3527840077877045, 0.3527840077877045, 0.3527840077877045, 0.3527840077877045, 0.3527840077877045, 0.3527840077877045, 0.3527840077877045, 0.3527840077877045, 0.3527840077877045, 0.3527840077877045, 0.3527840077877045, 0.3527840077877045, 0.3527840077877045, 0.3527840077877045, 0.3527840077877045, 0.3527840077877045, 0.3527840077877045, 0.3527840077877045, 0.3527840077877045, 0.3527840077877045, 0.3527840077877045, 0.3527840077877045, 0.3527840077877045, 0.3527840077877045, 0.3527840077877045, 0.3527840077877045, 0.3527840077877045, 0.3527840077877045, 0.3527840077877045, 0.3527840077877045, 0.3527840077877045, 0.3527840077877045, 0.3527840077877045, 0.3527840077877045, 0.3527840077877045, 0.3527840077877045, 0.3527840077877045, 0.3527840077877045, 0.3527840077877045, 0.3527840077877045, 0.3527840077877045, 0.3527840077877045, -0.1867213100194931, -0.1867213100194931, -0.1867213100194931, -0.1867213100194931, -0.1867213100194931, -0.1867213100194931, -0.1867213100194931, -0.1867213100194931, 0.09606906771659851, 0.09606906771659851, 0.09606906771659851, 0.09606906771659851, 0.09606906771659851, 0.09606906771659851, 0.09606906771659851, 0.09606906771659851, 0.2734288573265076, 0.2734288573265076, 0.2734288573265076, 0.2734288573265076, 0.2734288573265076, 0.2734288573265076, 0.2734288573265076, 0.2734288573265076]\n"
          ]
        }
      ],
      "source": [
        "#@title Create token and call the API for the DICOM volume\n",
        "\n",
        "# Credentials to access the API\n",
        "credentials = google.auth.default()[0]\n",
        "\n",
        "# Token to access the DICOMs in the DICOM store\n",
        "TOKEN_ = !gcloud beta auth application-default print-access-token\n",
        "TOKEN = TOKEN_[0]\n",
        "\n",
        "\n",
        "# Call the API with a single call and a batch size of 3.\n",
        "my_embeddings = get_ct_embeddings(\n",
        "    caller=Endpoint(), credentials=credentials, urls=nifti_urls,\n",
        "    access_token=TOKEN, batch_size=3, parallel_size=1)\n",
        "# Total passed urls are 3\n",
        "print(f'Total return results: {len(my_embeddings)}')\n",
        "print('Example from first result....')\n",
        "print(f'Embeddings or error message for the CT: {my_embeddings[0][1]}')\n",
        "print(my_embeddings[0][0])"
      ]
    },
    {
      "cell_type": "markdown",
      "metadata": {
        "id": "_cx9ZvHRysS3"
      },
      "source": [
        "# Trying CT Foundation on your own NIfTI files.\n",
        "\n",
        "\n",
        "1.   [Create your own cloud bucket](https://cloud.google.com/storage/docs/creating-buckets)\n",
        "2.   Upload your NIfTIs to the bucket.\n",
        "3.   Call the API for a given NIfTI files in your cloud bucket.\n",
        "4.   Collect and store your embeddings for training.\n",
        "\n",
        "**NOTE**: If performing parallel calls, i.e. parallel_size \u003e1, please start at\n",
        "50 or less as a start.\n",
        "\n",
        "If you have any feedback or questions please email us at: ct-foundation@google.com\n",
        "\n",
        "\n"
      ]
    }
  ],
  "metadata": {
    "colab": {
      "last_runtime": {
        "build_target": "//learning/deepmind/dm_python:dm_notebook3",
        "kind": "private"
      },
      "provenance": [
        {
          "file_id": "1MbQxqaL6cjrHQB5R25htthMAvwe5FluO",
          "timestamp": 1735260494440
        },
        {
          "file_id": "https://github.com/Google-Health/imaging-research/blob/master/ct-foundation/CT_Foundation_Demo.ipynb",
          "timestamp": 1734819403815
        },
        {
          "file_id": "1rmSAMuShB3A9OzrmXhnjriIORtuuH392",
          "timestamp": 1725411326587
        }
      ]
    },
    "kernelspec": {
      "display_name": "Python 3",
      "name": "python3"
    },
    "language_info": {
      "name": "python"
    }
  },
  "nbformat": 4,
  "nbformat_minor": 0
}
